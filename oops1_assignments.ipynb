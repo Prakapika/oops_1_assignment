{
 "cells": [
  {
   "cell_type": "code",
   "execution_count": 1,
   "id": "6825f0e9",
   "metadata": {},
   "outputs": [],
   "source": [
    "class Point:\n",
    "\n",
    "    def __init__(self,x, y, z):\n",
    "        self.x = x\n",
    "        self.y = y\n",
    "        self.z = z\n",
    "\n",
    "    def sqSum(self):\n",
    "      sum = 0\n",
    "      x = self.x*self.x\n",
    "      y = self.y*self.y\n",
    "      z = self.z*self.z\n",
    "      sum = x+y+z\n",
    "      return sum"
   ]
  },
  {
   "cell_type": "code",
   "execution_count": 2,
   "id": "66ca43ab",
   "metadata": {},
   "outputs": [],
   "source": [
    "p1 = Point(1,3,5)"
   ]
  },
  {
   "cell_type": "code",
   "execution_count": 4,
   "id": "56b2c603",
   "metadata": {},
   "outputs": [
    {
     "data": {
      "text/plain": [
       "35"
      ]
     },
     "execution_count": 4,
     "metadata": {},
     "output_type": "execute_result"
    }
   ],
   "source": [
    "p1.sqSum()"
   ]
  },
  {
   "cell_type": "code",
   "execution_count": null,
   "id": "3818e247",
   "metadata": {},
   "outputs": [],
   "source": []
  }
 ],
 "metadata": {
  "kernelspec": {
   "display_name": "Python 3 (ipykernel)",
   "language": "python",
   "name": "python3"
  },
  "language_info": {
   "codemirror_mode": {
    "name": "ipython",
    "version": 3
   },
   "file_extension": ".py",
   "mimetype": "text/x-python",
   "name": "python",
   "nbconvert_exporter": "python",
   "pygments_lexer": "ipython3",
   "version": "3.10.6"
  }
 },
 "nbformat": 4,
 "nbformat_minor": 5
}
